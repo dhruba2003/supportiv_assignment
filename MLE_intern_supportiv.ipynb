{
 "cells": [
  {
   "cell_type": "markdown",
   "metadata": {},
   "source": [
    "Installing the dependencies"
   ]
  },
  {
   "cell_type": "code",
   "execution_count": null,
   "metadata": {},
   "outputs": [],
   "source": [
    "!pip install transformers==4.17   #using this specfic version of transformers leads to no error\n",
    "!pip install torch\n",
    "!pip install pandas\n",
    "!pip install sklearn\n",
    "!pip install datasets\n",
    "!pip install rouge_score\n",
    "!pip install nltk"
   ]
  },
  {
   "cell_type": "markdown",
   "metadata": {},
   "source": [
    "Importing the dependencies"
   ]
  },
  {
   "cell_type": "code",
   "execution_count": null,
   "metadata": {},
   "outputs": [],
   "source": [
    "import pandas as pd\n",
    "from sklearn.model_selection import train_test_split\n",
    "from transformers import AutoTokenizer, AutoModelForSeq2SeqLM, Seq2SeqTrainer, Seq2SeqTrainingArguments\n",
    "import torch\n",
    "from datasets import load_metric\n",
    "import nltk\n",
    "nltk.download('punkt')"
   ]
  },
  {
   "cell_type": "markdown",
   "metadata": {},
   "source": [
    "Pre-processing the dataset"
   ]
  },
  {
   "cell_type": "code",
   "execution_count": null,
   "metadata": {},
   "outputs": [],
   "source": [
    "#load the datasets\n",
    "\n",
    "df= pd.read_csv(\"intern_screening_dataset.csv\")\n",
    "df.head()\n",
    "\n",
    "#removing the duplicate rows\n",
    "\n",
    "df=df.drop_duplicates(subset=[\"question\"])\n",
    "\n",
    "#splitting the datset into train and test Seq2SeqTrainer\n",
    "\n",
    "train_df, val_df = train_test_split(df, test_size=0.2)\n",
    "\n",
    "#tokenizing the given datasets\n",
    "\n",
    "tokenizer = AutoTokenizer.from_pretrained(\"t5-small\")\n",
    "\n",
    "#defining the tokenization function\n",
    "\n",
    "def tokenize_function(examples_ques,examples_ans):\n",
    "    inputs = tokenizer(examples_ques, padding='max_length', truncation=True, return_tensors='pt')\n",
    "    labels = tokenizer(examples_ans, padding='max_length', truncation=True, return_tensors='pt')\n",
    "    inputs.pop('token_type_ids', None)\n",
    "    labels.pop('token_type_ids', None)\n",
    "    inputs['labels'] = labels['input_ids']\n",
    "    return inputs\n",
    "\n",
    "#converting the datasets into lists to pass it through the tokenization function\n",
    "\n",
    "train_examples= train_df.to_numpy().tolist()\n",
    "val_examples= val_df.to_numpy().tolist()\n",
    "\n",
    "train_ques=[]\n",
    "train_ans=[]\n",
    "val_ques=[]\n",
    "val_ans=[]\n",
    "for it in train_examples:\n",
    "  train_ques.append(str(it[0]))\n",
    "  train_ans.append(str(it[1]))\n",
    "for it in val_examples:\n",
    "  val_ques.append(str(it[0]))\n",
    "  val_ans.append(str(it[1]))\n",
    "\n",
    "#tokenizing the data\n",
    "\n",
    "train_encodings = tokenize_function(train_ques,train_ans)\n",
    "val_encodings = tokenize_function(val_ques,val_ans)"
   ]
  },
  {
   "cell_type": "code",
   "execution_count": null,
   "metadata": {},
   "outputs": [],
   "source": [
    "print(train_encodings['labels']) #ensuring labels have been made"
   ]
  },
  {
   "cell_type": "code",
   "execution_count": null,
   "metadata": {},
   "outputs": [],
   "source": [
    "#Creating Dataset class\n",
    "class QADataset(torch.utils.data.Dataset):\n",
    "    def __init__(self, encodings):\n",
    "        self.encodings = encodings\n",
    "\n",
    "    def __getitem__(self, idx):\n",
    "        item = {key: torch.tensor(val[idx]) for key, val in self.encodings.items() if key != 'token_type_ids'}\n",
    "        return item\n",
    "\n",
    "    def __len__(self):\n",
    "        return len(self.encodings['input_ids'])\n",
    "\n",
    "train_dataset = QADataset(train_encodings)\n",
    "val_dataset = QADataset(val_encodings)"
   ]
  },
  {
   "cell_type": "markdown",
   "metadata": {},
   "source": [
    "Model Training and Evaluation"
   ]
  },
  {
   "cell_type": "code",
   "execution_count": null,
   "metadata": {},
   "outputs": [],
   "source": [
    "#Loading the model\n",
    "model = AutoModelForSeq2SeqLM.from_pretrained(\"t5-small\")\n",
    "\n",
    "#Setting up training arguments\n",
    "training_args = Seq2SeqTrainingArguments(\n",
    "    output_dir='./results',\n",
    "    num_train_epochs=3,\n",
    "    per_device_train_batch_size=8,\n",
    "    per_device_eval_batch_size=16,\n",
    "    warmup_steps=500,\n",
    "    weight_decay=0.01,\n",
    "    logging_dir='./logs',\n",
    "    logging_steps=10,\n",
    "    evaluation_strategy=\"epoch\",\n",
    "    predict_with_generate=True  # This ensures that the generate method is used for predictions\n",
    ")\n",
    "\n",
    "#Loading evaluation metrics\n",
    "bleu_metric = load_metric('bleu')\n",
    "rouge_metric = load_metric('rouge')\n",
    "\n",
    "#Defining compute metrics function\n",
    "def compute_metrics(pred):\n",
    "    labels_ids = pred.label_ids\n",
    "    pred_ids = pred.predictions\n",
    "    \n",
    "    # Decode generated texts\n",
    "    pred_str = tokenizer.batch_decode(pred_ids, skip_special_tokens=True)\n",
    "    labels_ids[labels_ids == -100] = tokenizer.pad_token_id\n",
    "    label_str = tokenizer.batch_decode(labels_ids, skip_special_tokens=True)\n",
    "    \n",
    "    # Compute BLEU\n",
    "    pred_tokens = [nltk.word_tokenize(s) for s in pred_str]\n",
    "    label_tokens = [[nltk.word_tokenize(s)] for s in label_str]\n",
    "    bleu = bleu_metric.compute(predictions=pred_tokens, references=label_tokens)\n",
    "    \n",
    "    # Compute ROUGE\n",
    "    rouge = rouge_metric.compute(predictions=pred_str, references=label_str, rouge_types=[\"rouge1\", \"rouge2\", \"rougeL\"])\n",
    "    \n",
    "    return {\n",
    "        'bleu': bleu['bleu'],\n",
    "        'rouge1': rouge['rouge1'].mid.fmeasure,\n",
    "        'rouge2': rouge['rouge2'].mid.fmeasure,\n",
    "        'rougeL': rouge['rougeL'].mid.fmeasure,\n",
    "    }\n",
    "\n",
    "# Set up trainer\n",
    "trainer = Seq2SeqTrainer(\n",
    "    model=model,\n",
    "    args=training_args,\n",
    "    train_dataset=train_dataset,\n",
    "    eval_dataset=val_dataset,\n",
    "    tokenizer=tokenizer,\n",
    "    compute_metrics=compute_metrics\n",
    ")\n",
    "\n",
    "# Train the model\n",
    "trainer.train()"
   ]
  },
  {
   "cell_type": "code",
   "execution_count": null,
   "metadata": {},
   "outputs": [],
   "source": [
    "#saving the model\n",
    "\n",
    "model.save_pretrained('./saved_model')\n",
    "tokenizer.save_pretrained('./saved_model')"
   ]
  },
  {
   "cell_type": "markdown",
   "metadata": {},
   "source": [
    "Inference"
   ]
  },
  {
   "cell_type": "code",
   "execution_count": null,
   "metadata": {},
   "outputs": [],
   "source": [
    "from transformers import pipeline\n",
    "\n",
    "model = AutoModelForSeq2SeqLM.from_pretrained('./saved_model')\n",
    "tokenizer = AutoTokenizer.from_pretrained('./saved_model')\n",
    "qa_pipeline = pipeline(\"text2text-generation\", model=model, tokenizer=tokenizer)\n",
    "\n",
    "def get_answer(question):\n",
    "    return qa_pipeline(question)[0]['generated_text']\n",
    "\n",
    "while True:\n",
    "    user_input = input(\"You: \")\n",
    "    if user_input.lower() == 'exit':\n",
    "        break\n",
    "    response = get_answer(user_input)\n",
    "    print(\"QABot:\", response)"
   ]
  }
 ],
 "metadata": {
  "language_info": {
   "name": "python"
  }
 },
 "nbformat": 4,
 "nbformat_minor": 2
}
